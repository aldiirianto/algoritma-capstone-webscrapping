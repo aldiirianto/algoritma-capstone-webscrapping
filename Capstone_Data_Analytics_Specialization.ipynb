{
  "nbformat": 4,
  "nbformat_minor": 0,
  "metadata": {
    "colab": {
      "provenance": [],
      "collapsed_sections": []
    },
    "kernelspec": {
      "name": "python3",
      "display_name": "Python 3"
    },
    "language_info": {
      "name": "python"
    }
  },
  "cells": [
    {
      "cell_type": "markdown",
      "source": [
        "##**Capstone Webscrapping with BeautifulSoup**\n",
        "  - Pada kesempatan kali ini, dilakukan proses webscrapping sederhana dari situs https://www.exchange-rates.org/history/IDR/USD/T untuk kemudian diolah dan dianalisis menjadi suatu visualisasi data.\n",
        "  \n",
        "  - Tujuan dilakukannya untuk menyelesaikan tugas Capstone - Data Analytics Specialization by Algoritma Academy."
      ],
      "metadata": {
        "id": "3hx2boR1sq9d"
      }
    },
    {
      "cell_type": "markdown",
      "source": [
        "**Requesting the Data and Creating the BeautifulSoup**"
      ],
      "metadata": {
        "id": "kx5o5oB1tOvZ"
      }
    },
    {
      "cell_type": "code",
      "execution_count": 1,
      "metadata": {
        "id": "r76BS7A4sbMC"
      },
      "outputs": [],
      "source": [
        "import requests\n",
        "\n",
        "url_get = requests.get('https://www.coingecko.com/en/coins/ethereum/historical_data#panel')"
      ]
    },
    {
      "cell_type": "code",
      "source": [
        "url_get.content[1:500]"
      ],
      "metadata": {
        "colab": {
          "base_uri": "https://localhost:8080/"
        },
        "id": "qU2VR4XztMSV",
        "outputId": "92f965b2-42f1-45d7-f827-3a456e648e73"
      },
      "execution_count": 2,
      "outputs": [
        {
          "output_type": "execute_result",
          "data": {
            "text/plain": [
              "b'!DOCTYPE html>\\n<html lang=\"en\">\\n<head>\\n<script src=\"/cdn-cgi/apps/head/gYtXOyllgyP3-Z2iKTP8rRWGBm4.js\"></script><script async defer src=\"https://www.googleoptimize.com/optimize.js?id=GTM-W3CD992\"></script>\\n<meta charset=\"utf-8\">\\n<meta http-equiv=\"X-UA-Compatible\" content=\"IE=edge\">\\n<meta name=\"viewport\" content=\"width=device-width, initial-scale=1.0\">\\n<link rel=\"shortcut icon\" href=\"/favicon.ico\">\\n<link type=\"application/opensearchdescription+xml\" rel=\"search\" href=\"/OpensearchDescription.xml\" '"
            ]
          },
          "metadata": {},
          "execution_count": 2
        }
      ]
    },
    {
      "cell_type": "markdown",
      "source": [
        "Dapat kita lihat diatas bahwa, link url dari halaman yang kita butuhkan telah discrapping menggunakan package **requests**.\n",
        "\n",
        "Namun, hasil scrapping tersebut masih berupa link code html yang tidak enak dilihat oleh mata manusia. Selanjutnya, kita akan menginstal BeautifulSoup untuk membantu merapihkan data code html tersebut."
      ],
      "metadata": {
        "id": "8sAIEXDwsrBe"
      }
    },
    {
      "cell_type": "code",
      "source": [
        "#menginstal BeautifulSoup\n",
        "from bs4 import BeautifulSoup \n",
        "\n",
        "soup = BeautifulSoup(url_get.content,\"html.parser\")\n",
        "print(type(soup))"
      ],
      "metadata": {
        "colab": {
          "base_uri": "https://localhost:8080/"
        },
        "id": "_RIwBYHluDOz",
        "outputId": "9f74dd7d-9cc0-4979-c68d-283e7c3e249c"
      },
      "execution_count": 3,
      "outputs": [
        {
          "output_type": "stream",
          "name": "stdout",
          "text": [
            "<class 'bs4.BeautifulSoup'>\n"
          ]
        }
      ]
    },
    {
      "cell_type": "markdown",
      "source": [
        "**Finding the right key to scrap the data & Extracting the right information**"
      ],
      "metadata": {
        "id": "0c2B6bX3uOuo"
      }
    },
    {
      "cell_type": "code",
      "source": [
        "table = soup.find('table', attrs={'class':'table table-striped text-sm text-lg-normal'})\n",
        "print(table.prettify()[1:500])"
      ],
      "metadata": {
        "colab": {
          "base_uri": "https://localhost:8080/"
        },
        "id": "NBJmTWCHubVg",
        "outputId": "6dc7d180-58c5-4851-d05d-71951dfcc84e"
      },
      "execution_count": 4,
      "outputs": [
        {
          "output_type": "stream",
          "name": "stdout",
          "text": [
            "table class=\"table table-striped text-sm text-lg-normal\">\n",
            " <thead>\n",
            "  <tr>\n",
            "   <th class=\"text-center\">\n",
            "    Date\n",
            "   </th>\n",
            "   <th class=\"text-center\">\n",
            "    Market Cap\n",
            "   </th>\n",
            "   <th class=\"text-center\">\n",
            "    Volume\n",
            "   </th>\n",
            "   <th class=\"text-center\">\n",
            "    Open\n",
            "   </th>\n",
            "   <th class=\"text-center\">\n",
            "    Close\n",
            "   </th>\n",
            "  </tr>\n",
            " </thead>\n",
            " <tbody>\n",
            "  <tr>\n",
            "   <th class=\"font-semibold text-center\" scope=\"row\">\n",
            "    2022-10-02\n",
            "   </th>\n",
            "   <td class=\"text-center\">\n",
            "    $158,410,068,981\n",
            "   </td>\n",
            "   <td class=\"te\n"
          ]
        }
      ]
    },
    {
      "cell_type": "markdown",
      "source": [
        "finding row length"
      ],
      "metadata": {
        "id": "DNUsXLNqurzq"
      }
    },
    {
      "cell_type": "code",
      "source": [
        "date = table.find_all('th', attrs={'class':'font-semibold text-center'})\n",
        "date"
      ],
      "metadata": {
        "colab": {
          "base_uri": "https://localhost:8080/"
        },
        "id": "0lOQD-4quitu",
        "outputId": "6845d91f-06d1-4d16-bfe2-309c8628f172"
      },
      "execution_count": 5,
      "outputs": [
        {
          "output_type": "execute_result",
          "data": {
            "text/plain": [
              "[<th class=\"font-semibold text-center\" scope=\"row\">2022-10-02</th>,\n",
              " <th class=\"font-semibold text-center\" scope=\"row\">2022-10-01</th>,\n",
              " <th class=\"font-semibold text-center\" scope=\"row\">2022-09-30</th>,\n",
              " <th class=\"font-semibold text-center\" scope=\"row\">2022-09-29</th>,\n",
              " <th class=\"font-semibold text-center\" scope=\"row\">2022-09-28</th>,\n",
              " <th class=\"font-semibold text-center\" scope=\"row\">2022-09-27</th>,\n",
              " <th class=\"font-semibold text-center\" scope=\"row\">2022-09-26</th>,\n",
              " <th class=\"font-semibold text-center\" scope=\"row\">2022-09-25</th>,\n",
              " <th class=\"font-semibold text-center\" scope=\"row\">2022-09-24</th>,\n",
              " <th class=\"font-semibold text-center\" scope=\"row\">2022-09-23</th>,\n",
              " <th class=\"font-semibold text-center\" scope=\"row\">2022-09-22</th>,\n",
              " <th class=\"font-semibold text-center\" scope=\"row\">2022-09-21</th>,\n",
              " <th class=\"font-semibold text-center\" scope=\"row\">2022-09-20</th>,\n",
              " <th class=\"font-semibold text-center\" scope=\"row\">2022-09-19</th>,\n",
              " <th class=\"font-semibold text-center\" scope=\"row\">2022-09-18</th>,\n",
              " <th class=\"font-semibold text-center\" scope=\"row\">2022-09-17</th>,\n",
              " <th class=\"font-semibold text-center\" scope=\"row\">2022-09-16</th>,\n",
              " <th class=\"font-semibold text-center\" scope=\"row\">2022-09-15</th>,\n",
              " <th class=\"font-semibold text-center\" scope=\"row\">2022-09-14</th>,\n",
              " <th class=\"font-semibold text-center\" scope=\"row\">2022-09-13</th>,\n",
              " <th class=\"font-semibold text-center\" scope=\"row\">2022-09-12</th>,\n",
              " <th class=\"font-semibold text-center\" scope=\"row\">2022-09-11</th>,\n",
              " <th class=\"font-semibold text-center\" scope=\"row\">2022-09-10</th>,\n",
              " <th class=\"font-semibold text-center\" scope=\"row\">2022-09-09</th>,\n",
              " <th class=\"font-semibold text-center\" scope=\"row\">2022-09-08</th>,\n",
              " <th class=\"font-semibold text-center\" scope=\"row\">2022-09-07</th>,\n",
              " <th class=\"font-semibold text-center\" scope=\"row\">2022-09-06</th>,\n",
              " <th class=\"font-semibold text-center\" scope=\"row\">2022-09-05</th>,\n",
              " <th class=\"font-semibold text-center\" scope=\"row\">2022-09-04</th>,\n",
              " <th class=\"font-semibold text-center\" scope=\"row\">2022-09-03</th>,\n",
              " <th class=\"font-semibold text-center\" scope=\"row\">2022-09-02</th>]"
            ]
          },
          "metadata": {},
          "execution_count": 5
        }
      ]
    },
    {
      "cell_type": "code",
      "source": [
        "date[0].text"
      ],
      "metadata": {
        "colab": {
          "base_uri": "https://localhost:8080/",
          "height": 36
        },
        "id": "SNNjJC8BvGmB",
        "outputId": "eea17903-ca68-4ff6-df3c-a331e0e59972"
      },
      "execution_count": 10,
      "outputs": [
        {
          "output_type": "execute_result",
          "data": {
            "text/plain": [
              "'2022-10-02'"
            ],
            "application/vnd.google.colaboratory.intrinsic+json": {
              "type": "string"
            }
          },
          "metadata": {},
          "execution_count": 10
        }
      ]
    },
    {
      "cell_type": "code",
      "source": [
        "row_length = len(date)\n",
        "row_length"
      ],
      "metadata": {
        "colab": {
          "base_uri": "https://localhost:8080/"
        },
        "id": "p_xln8ms5yu5",
        "outputId": "1784adc6-e8fa-4b4b-b9fb-595b8bbcd5c2"
      },
      "execution_count": 11,
      "outputs": [
        {
          "output_type": "execute_result",
          "data": {
            "text/plain": [
              "31"
            ]
          },
          "metadata": {},
          "execution_count": 11
        }
      ]
    },
    {
      "cell_type": "code",
      "source": [
        "market_cap = table.find_all('td', attrs={'class':'text-center'})\n",
        "market_cap"
      ],
      "metadata": {
        "colab": {
          "base_uri": "https://localhost:8080/"
        },
        "id": "LVfjEbO21IKu",
        "outputId": "ea8bd515-8fb3-46b8-bfc6-21eea2a3e37b"
      },
      "execution_count": 8,
      "outputs": [
        {
          "output_type": "execute_result",
          "data": {
            "text/plain": [
              "[<td class=\"text-center\">\n",
              " $158,410,068,981\n",
              " </td>, <td class=\"text-center\">\n",
              " $5,052,407,841\n",
              " </td>, <td class=\"text-center\">\n",
              " $1,311.26\n",
              " </td>, <td class=\"text-center\">\n",
              " N/A\n",
              " </td>, <td class=\"text-center\">\n",
              " $160,462,955,554\n",
              " </td>, <td class=\"text-center\">\n",
              " $11,849,125,784\n",
              " </td>, <td class=\"text-center\">\n",
              " $1,329.15\n",
              " </td>, <td class=\"text-center\">\n",
              " $1,311.26\n",
              " </td>, <td class=\"text-center\">\n",
              " $161,267,455,734\n",
              " </td>, <td class=\"text-center\">\n",
              " $11,834,328,252\n",
              " </td>, <td class=\"text-center\">\n",
              " $1,335.74\n",
              " </td>, <td class=\"text-center\">\n",
              " $1,329.15\n",
              " </td>, <td class=\"text-center\">\n",
              " $161,716,193,676\n",
              " </td>, <td class=\"text-center\">\n",
              " $16,571,161,476\n",
              " </td>, <td class=\"text-center\">\n",
              " $1,340.02\n",
              " </td>, <td class=\"text-center\">\n",
              " $1,335.74\n",
              " </td>, <td class=\"text-center\">\n",
              " $160,800,122,125\n",
              " </td>, <td class=\"text-center\">\n",
              " $16,685,874,856\n",
              " </td>, <td class=\"text-center\">\n",
              " $1,331.15\n",
              " </td>, <td class=\"text-center\">\n",
              " $1,340.02\n",
              " </td>, <td class=\"text-center\">\n",
              " $160,767,471,778\n",
              " </td>, <td class=\"text-center\">\n",
              " $15,270,197,376\n",
              " </td>, <td class=\"text-center\">\n",
              " $1,335.12\n",
              " </td>, <td class=\"text-center\">\n",
              " $1,331.15\n",
              " </td>, <td class=\"text-center\">\n",
              " $156,146,367,767\n",
              " </td>, <td class=\"text-center\">\n",
              " $10,552,647,870\n",
              " </td>, <td class=\"text-center\">\n",
              " $1,294.08\n",
              " </td>, <td class=\"text-center\">\n",
              " $1,335.12\n",
              " </td>, <td class=\"text-center\">\n",
              " $159,030,822,515\n",
              " </td>, <td class=\"text-center\">\n",
              " $11,251,326,609\n",
              " </td>, <td class=\"text-center\">\n",
              " $1,318.10\n",
              " </td>, <td class=\"text-center\">\n",
              " $1,294.08\n",
              " </td>, <td class=\"text-center\">\n",
              " $160,823,914,265\n",
              " </td>, <td class=\"text-center\">\n",
              " $17,599,766,731\n",
              " </td>, <td class=\"text-center\">\n",
              " $1,329.56\n",
              " </td>, <td class=\"text-center\">\n",
              " $1,318.10\n",
              " </td>, <td class=\"text-center\">\n",
              " $160,415,097,114\n",
              " </td>, <td class=\"text-center\">\n",
              " $17,517,188,721\n",
              " </td>, <td class=\"text-center\">\n",
              " $1,330.79\n",
              " </td>, <td class=\"text-center\">\n",
              " $1,329.56\n",
              " </td>, <td class=\"text-center\">\n",
              " $151,084,586,604\n",
              " </td>, <td class=\"text-center\">\n",
              " $18,732,743,242\n",
              " </td>, <td class=\"text-center\">\n",
              " $1,252.77\n",
              " </td>, <td class=\"text-center\">\n",
              " $1,330.79\n",
              " </td>, <td class=\"text-center\">\n",
              " $159,844,149,939\n",
              " </td>, <td class=\"text-center\">\n",
              " $13,605,986,462\n",
              " </td>, <td class=\"text-center\">\n",
              " $1,324.19\n",
              " </td>, <td class=\"text-center\">\n",
              " $1,252.77\n",
              " </td>, <td class=\"text-center\">\n",
              " $166,370,229,681\n",
              " </td>, <td class=\"text-center\">\n",
              " $17,757,533,838\n",
              " </td>, <td class=\"text-center\">\n",
              "  $1,379.92\n",
              " </td>, <td class=\"text-center\">\n",
              " $1,324.19\n",
              " </td>, <td class=\"text-center\">\n",
              " $161,378,107,850\n",
              " </td>, <td class=\"text-center\">\n",
              " $14,696,599,277\n",
              " </td>, <td class=\"text-center\">\n",
              " $1,335.85\n",
              " </td>, <td class=\"text-center\">\n",
              " $1,379.92\n",
              " </td>, <td class=\"text-center\">\n",
              " $177,299,639,477\n",
              " </td>, <td class=\"text-center\">\n",
              " $10,309,763,882\n",
              " </td>, <td class=\"text-center\">\n",
              " $1,471.20\n",
              " </td>, <td class=\"text-center\">\n",
              " $1,335.85\n",
              " </td>, <td class=\"text-center\">\n",
              " $172,471,655,155\n",
              " </td>, <td class=\"text-center\">\n",
              " $17,892,819,035\n",
              " </td>, <td class=\"text-center\">\n",
              " $1,432.22\n",
              " </td>, <td class=\"text-center\">\n",
              " $1,471.20\n",
              " </td>, <td class=\"text-center\">\n",
              " $177,918,273,632\n",
              " </td>, <td class=\"text-center\">\n",
              " $24,787,864,367\n",
              " </td>, <td class=\"text-center\">\n",
              " $1,472.00\n",
              " </td>, <td class=\"text-center\">\n",
              " $1,432.22\n",
              " </td>, <td class=\"text-center\">\n",
              " $196,550,513,819\n",
              " </td>, <td class=\"text-center\">\n",
              " $17,198,033,718\n",
              " </td>, <td class=\"text-center\">\n",
              " $1,635.37\n",
              " </td>, <td class=\"text-center\">\n",
              " $1,472.00\n",
              " </td>, <td class=\"text-center\">\n",
              " $189,778,580,453\n",
              " </td>, <td class=\"text-center\">\n",
              " $22,286,700,927\n",
              " </td>, <td class=\"text-center\">\n",
              " $1,573.21\n",
              " </td>, <td class=\"text-center\">\n",
              " $1,635.37\n",
              " </td>, <td class=\"text-center\">\n",
              " $205,793,007,271\n",
              " </td>, <td class=\"text-center\">\n",
              " $16,770,566,236\n",
              " </td>, <td class=\"text-center\">\n",
              " $1,710.16\n",
              " </td>, <td class=\"text-center\">\n",
              " $1,573.21\n",
              " </td>, <td class=\"text-center\">\n",
              " $211,895,058,510\n",
              " </td>, <td class=\"text-center\">\n",
              " $11,692,754,175\n",
              " </td>, <td class=\"text-center\">\n",
              " $1,761.32\n",
              " </td>, <td class=\"text-center\">\n",
              " $1,710.16\n",
              " </td>, <td class=\"text-center\">\n",
              " $214,315,849,499\n",
              " </td>, <td class=\"text-center\">\n",
              " $12,521,808,521\n",
              " </td>, <td class=\"text-center\">\n",
              " $1,779.52\n",
              " </td>, <td class=\"text-center\">\n",
              " $1,761.32\n",
              " </td>, <td class=\"text-center\">\n",
              " $206,873,029,263\n",
              " </td>, <td class=\"text-center\">\n",
              " $19,418,675,071\n",
              " </td>, <td class=\"text-center\">\n",
              " $1,717.08\n",
              " </td>, <td class=\"text-center\">\n",
              " $1,779.52\n",
              " </td>, <td class=\"text-center\">\n",
              " $196,882,691,710\n",
              " </td>, <td class=\"text-center\">\n",
              " $16,676,188,643\n",
              " </td>, <td class=\"text-center\">\n",
              " $1,635.93\n",
              " </td>, <td class=\"text-center\">\n",
              " $1,717.08\n",
              " </td>, <td class=\"text-center\">\n",
              " $196,797,197,824\n",
              " </td>, <td class=\"text-center\">\n",
              " $18,560,005,397\n",
              " </td>, <td class=\"text-center\">\n",
              " $1,629.88\n",
              " </td>, <td class=\"text-center\">\n",
              " $1,635.93\n",
              " </td>, <td class=\"text-center\">\n",
              " $188,733,785,486\n",
              " </td>, <td class=\"text-center\">\n",
              " $20,860,201,644\n",
              " </td>, <td class=\"text-center\">\n",
              " $1,564.56\n",
              " </td>, <td class=\"text-center\">\n",
              " $1,629.88\n",
              " </td>, <td class=\"text-center\">\n",
              " $194,714,097,036\n",
              " </td>, <td class=\"text-center\">\n",
              " $11,815,125,729\n",
              " </td>, <td class=\"text-center\">\n",
              " $1,617.94\n",
              " </td>, <td class=\"text-center\">\n",
              " $1,564.56\n",
              " </td>, <td class=\"text-center\">\n",
              " $190,082,046,955\n",
              " </td>, <td class=\"text-center\">\n",
              " $7,827,505,125\n",
              " </td>, <td class=\"text-center\">\n",
              " $1,578.95\n",
              " </td>, <td class=\"text-center\">\n",
              " $1,617.94\n",
              " </td>, <td class=\"text-center\">\n",
              " $187,266,246,295\n",
              " </td>, <td class=\"text-center\">\n",
              " $8,500,114,334\n",
              " </td>, <td class=\"text-center\">\n",
              " $1,555.67\n",
              " </td>, <td class=\"text-center\">\n",
              " $1,578.95\n",
              " </td>, <td class=\"text-center\">\n",
              " $189,678,877,653\n",
              " </td>, <td class=\"text-center\">\n",
              " $15,857,654,357\n",
              " </td>, <td class=\"text-center\">\n",
              " $1,575.18\n",
              " </td>, <td class=\"text-center\">\n",
              " $1,555.67\n",
              " </td>, <td class=\"text-center\">\n",
              " $191,078,487,040\n",
              " </td>, <td class=\"text-center\">\n",
              " $15,076,286,517\n",
              " </td>, <td class=\"text-center\">\n",
              " $1,588.98\n",
              " </td>, <td class=\"text-center\">\n",
              " $1,575.18\n",
              " </td>]"
            ]
          },
          "metadata": {},
          "execution_count": 8
        }
      ]
    },
    {
      "cell_type": "markdown",
      "source": [
        "the scrapping process here"
      ],
      "metadata": {
        "id": "W30q3ODCvNHB"
      }
    },
    {
      "cell_type": "code",
      "source": [
        "temp = [] #initiating a tuple\n",
        "\n",
        "for i in range(0, row_length):\n",
        "\n",
        "    #scrapping process\n",
        "    #get period\n",
        "    date = table.find_all('th', attrs={'class':'font-semibold text-center'})[i].text\n",
        "    volume = table.find_all('td', attrs={'class':'text-center'})[1].text.strip('\\n')\n",
        "\n",
        "    temp.append((date, volume))\n",
        "    \n",
        "temp "
      ],
      "metadata": {
        "colab": {
          "base_uri": "https://localhost:8080/"
        },
        "id": "TRgcdqJXvLK6",
        "outputId": "cd3f8d10-5472-41a3-cc79-e280d7fbd975"
      },
      "execution_count": 42,
      "outputs": [
        {
          "output_type": "execute_result",
          "data": {
            "text/plain": [
              "[('2022-10-02', '$5,052,407,841'),\n",
              " ('2022-10-01', '$5,052,407,841'),\n",
              " ('2022-09-30', '$5,052,407,841'),\n",
              " ('2022-09-29', '$5,052,407,841'),\n",
              " ('2022-09-28', '$5,052,407,841'),\n",
              " ('2022-09-27', '$5,052,407,841'),\n",
              " ('2022-09-26', '$5,052,407,841'),\n",
              " ('2022-09-25', '$5,052,407,841'),\n",
              " ('2022-09-24', '$5,052,407,841'),\n",
              " ('2022-09-23', '$5,052,407,841'),\n",
              " ('2022-09-22', '$5,052,407,841'),\n",
              " ('2022-09-21', '$5,052,407,841'),\n",
              " ('2022-09-20', '$5,052,407,841'),\n",
              " ('2022-09-19', '$5,052,407,841'),\n",
              " ('2022-09-18', '$5,052,407,841'),\n",
              " ('2022-09-17', '$5,052,407,841'),\n",
              " ('2022-09-16', '$5,052,407,841'),\n",
              " ('2022-09-15', '$5,052,407,841'),\n",
              " ('2022-09-14', '$5,052,407,841'),\n",
              " ('2022-09-13', '$5,052,407,841'),\n",
              " ('2022-09-12', '$5,052,407,841'),\n",
              " ('2022-09-11', '$5,052,407,841'),\n",
              " ('2022-09-10', '$5,052,407,841'),\n",
              " ('2022-09-09', '$5,052,407,841'),\n",
              " ('2022-09-08', '$5,052,407,841'),\n",
              " ('2022-09-07', '$5,052,407,841'),\n",
              " ('2022-09-06', '$5,052,407,841'),\n",
              " ('2022-09-05', '$5,052,407,841'),\n",
              " ('2022-09-04', '$5,052,407,841'),\n",
              " ('2022-09-03', '$5,052,407,841'),\n",
              " ('2022-09-02', '$5,052,407,841')]"
            ]
          },
          "metadata": {},
          "execution_count": 42
        }
      ]
    },
    {
      "cell_type": "markdown",
      "source": [
        "**Creating data frame & Data wrangling**"
      ],
      "metadata": {
        "id": "nNFgDPtA3pw_"
      }
    },
    {
      "cell_type": "code",
      "source": [
        "import pandas as pd\n",
        "\n",
        "df = pd.DataFrame(temp, columns = ('date', 'volume (USD)'))\n",
        "df.head()"
      ],
      "metadata": {
        "colab": {
          "base_uri": "https://localhost:8080/",
          "height": 206
        },
        "id": "RuJMsvKd3tPz",
        "outputId": "c32d81a0-ab09-4475-b581-41c6068517e1"
      },
      "execution_count": 43,
      "outputs": [
        {
          "output_type": "execute_result",
          "data": {
            "text/plain": [
              "         date    volume (USD)\n",
              "0  2022-10-02  $5,052,407,841\n",
              "1  2022-10-01  $5,052,407,841\n",
              "2  2022-09-30  $5,052,407,841\n",
              "3  2022-09-29  $5,052,407,841\n",
              "4  2022-09-28  $5,052,407,841"
            ],
            "text/html": [
              "\n",
              "  <div id=\"df-5b945569-769c-4ffe-bc3f-06cce9c99ec7\">\n",
              "    <div class=\"colab-df-container\">\n",
              "      <div>\n",
              "<style scoped>\n",
              "    .dataframe tbody tr th:only-of-type {\n",
              "        vertical-align: middle;\n",
              "    }\n",
              "\n",
              "    .dataframe tbody tr th {\n",
              "        vertical-align: top;\n",
              "    }\n",
              "\n",
              "    .dataframe thead th {\n",
              "        text-align: right;\n",
              "    }\n",
              "</style>\n",
              "<table border=\"1\" class=\"dataframe\">\n",
              "  <thead>\n",
              "    <tr style=\"text-align: right;\">\n",
              "      <th></th>\n",
              "      <th>date</th>\n",
              "      <th>volume (USD)</th>\n",
              "    </tr>\n",
              "  </thead>\n",
              "  <tbody>\n",
              "    <tr>\n",
              "      <th>0</th>\n",
              "      <td>2022-10-02</td>\n",
              "      <td>$5,052,407,841</td>\n",
              "    </tr>\n",
              "    <tr>\n",
              "      <th>1</th>\n",
              "      <td>2022-10-01</td>\n",
              "      <td>$5,052,407,841</td>\n",
              "    </tr>\n",
              "    <tr>\n",
              "      <th>2</th>\n",
              "      <td>2022-09-30</td>\n",
              "      <td>$5,052,407,841</td>\n",
              "    </tr>\n",
              "    <tr>\n",
              "      <th>3</th>\n",
              "      <td>2022-09-29</td>\n",
              "      <td>$5,052,407,841</td>\n",
              "    </tr>\n",
              "    <tr>\n",
              "      <th>4</th>\n",
              "      <td>2022-09-28</td>\n",
              "      <td>$5,052,407,841</td>\n",
              "    </tr>\n",
              "  </tbody>\n",
              "</table>\n",
              "</div>\n",
              "      <button class=\"colab-df-convert\" onclick=\"convertToInteractive('df-5b945569-769c-4ffe-bc3f-06cce9c99ec7')\"\n",
              "              title=\"Convert this dataframe to an interactive table.\"\n",
              "              style=\"display:none;\">\n",
              "        \n",
              "  <svg xmlns=\"http://www.w3.org/2000/svg\" height=\"24px\"viewBox=\"0 0 24 24\"\n",
              "       width=\"24px\">\n",
              "    <path d=\"M0 0h24v24H0V0z\" fill=\"none\"/>\n",
              "    <path d=\"M18.56 5.44l.94 2.06.94-2.06 2.06-.94-2.06-.94-.94-2.06-.94 2.06-2.06.94zm-11 1L8.5 8.5l.94-2.06 2.06-.94-2.06-.94L8.5 2.5l-.94 2.06-2.06.94zm10 10l.94 2.06.94-2.06 2.06-.94-2.06-.94-.94-2.06-.94 2.06-2.06.94z\"/><path d=\"M17.41 7.96l-1.37-1.37c-.4-.4-.92-.59-1.43-.59-.52 0-1.04.2-1.43.59L10.3 9.45l-7.72 7.72c-.78.78-.78 2.05 0 2.83L4 21.41c.39.39.9.59 1.41.59.51 0 1.02-.2 1.41-.59l7.78-7.78 2.81-2.81c.8-.78.8-2.07 0-2.86zM5.41 20L4 18.59l7.72-7.72 1.47 1.35L5.41 20z\"/>\n",
              "  </svg>\n",
              "      </button>\n",
              "      \n",
              "  <style>\n",
              "    .colab-df-container {\n",
              "      display:flex;\n",
              "      flex-wrap:wrap;\n",
              "      gap: 12px;\n",
              "    }\n",
              "\n",
              "    .colab-df-convert {\n",
              "      background-color: #E8F0FE;\n",
              "      border: none;\n",
              "      border-radius: 50%;\n",
              "      cursor: pointer;\n",
              "      display: none;\n",
              "      fill: #1967D2;\n",
              "      height: 32px;\n",
              "      padding: 0 0 0 0;\n",
              "      width: 32px;\n",
              "    }\n",
              "\n",
              "    .colab-df-convert:hover {\n",
              "      background-color: #E2EBFA;\n",
              "      box-shadow: 0px 1px 2px rgba(60, 64, 67, 0.3), 0px 1px 3px 1px rgba(60, 64, 67, 0.15);\n",
              "      fill: #174EA6;\n",
              "    }\n",
              "\n",
              "    [theme=dark] .colab-df-convert {\n",
              "      background-color: #3B4455;\n",
              "      fill: #D2E3FC;\n",
              "    }\n",
              "\n",
              "    [theme=dark] .colab-df-convert:hover {\n",
              "      background-color: #434B5C;\n",
              "      box-shadow: 0px 1px 3px 1px rgba(0, 0, 0, 0.15);\n",
              "      filter: drop-shadow(0px 1px 2px rgba(0, 0, 0, 0.3));\n",
              "      fill: #FFFFFF;\n",
              "    }\n",
              "  </style>\n",
              "\n",
              "      <script>\n",
              "        const buttonEl =\n",
              "          document.querySelector('#df-5b945569-769c-4ffe-bc3f-06cce9c99ec7 button.colab-df-convert');\n",
              "        buttonEl.style.display =\n",
              "          google.colab.kernel.accessAllowed ? 'block' : 'none';\n",
              "\n",
              "        async function convertToInteractive(key) {\n",
              "          const element = document.querySelector('#df-5b945569-769c-4ffe-bc3f-06cce9c99ec7');\n",
              "          const dataTable =\n",
              "            await google.colab.kernel.invokeFunction('convertToInteractive',\n",
              "                                                     [key], {});\n",
              "          if (!dataTable) return;\n",
              "\n",
              "          const docLinkHtml = 'Like what you see? Visit the ' +\n",
              "            '<a target=\"_blank\" href=https://colab.research.google.com/notebooks/data_table.ipynb>data table notebook</a>'\n",
              "            + ' to learn more about interactive tables.';\n",
              "          element.innerHTML = '';\n",
              "          dataTable['output_type'] = 'display_data';\n",
              "          await google.colab.output.renderOutput(dataTable, element);\n",
              "          const docLink = document.createElement('div');\n",
              "          docLink.innerHTML = docLinkHtml;\n",
              "          element.appendChild(docLink);\n",
              "        }\n",
              "      </script>\n",
              "    </div>\n",
              "  </div>\n",
              "  "
            ]
          },
          "metadata": {},
          "execution_count": 43
        }
      ]
    },
    {
      "cell_type": "code",
      "source": [
        "df.dtypes"
      ],
      "metadata": {
        "colab": {
          "base_uri": "https://localhost:8080/"
        },
        "id": "gezbc6_X3_Hn",
        "outputId": "54e7fca4-7cfd-4300-a9ae-df56aa8473f4"
      },
      "execution_count": 44,
      "outputs": [
        {
          "output_type": "execute_result",
          "data": {
            "text/plain": [
              "date            object\n",
              "volume (USD)    object\n",
              "dtype: object"
            ]
          },
          "metadata": {},
          "execution_count": 44
        }
      ]
    },
    {
      "cell_type": "markdown",
      "source": [
        "the data cleaning here"
      ],
      "metadata": {
        "id": "EiXZoRXX4Een"
      }
    },
    {
      "cell_type": "code",
      "source": [
        "df['volume (USD)'] = df['volume (USD)'].str.replace('[$|,]', '', regex=True)"
      ],
      "metadata": {
        "id": "A4CNkghm4FVv"
      },
      "execution_count": 49,
      "outputs": []
    },
    {
      "cell_type": "code",
      "source": [
        "df"
      ],
      "metadata": {
        "colab": {
          "base_uri": "https://localhost:8080/",
          "height": 1000
        },
        "id": "BUw6TDe26CCL",
        "outputId": "691fe865-28cb-4d3f-c82c-9aaf9872c342"
      },
      "execution_count": 50,
      "outputs": [
        {
          "output_type": "execute_result",
          "data": {
            "text/plain": [
              "          date volume (USD)\n",
              "0   2022-10-02   5052407841\n",
              "1   2022-10-01   5052407841\n",
              "2   2022-09-30   5052407841\n",
              "3   2022-09-29   5052407841\n",
              "4   2022-09-28   5052407841\n",
              "5   2022-09-27   5052407841\n",
              "6   2022-09-26   5052407841\n",
              "7   2022-09-25   5052407841\n",
              "8   2022-09-24   5052407841\n",
              "9   2022-09-23   5052407841\n",
              "10  2022-09-22   5052407841\n",
              "11  2022-09-21   5052407841\n",
              "12  2022-09-20   5052407841\n",
              "13  2022-09-19   5052407841\n",
              "14  2022-09-18   5052407841\n",
              "15  2022-09-17   5052407841\n",
              "16  2022-09-16   5052407841\n",
              "17  2022-09-15   5052407841\n",
              "18  2022-09-14   5052407841\n",
              "19  2022-09-13   5052407841\n",
              "20  2022-09-12   5052407841\n",
              "21  2022-09-11   5052407841\n",
              "22  2022-09-10   5052407841\n",
              "23  2022-09-09   5052407841\n",
              "24  2022-09-08   5052407841\n",
              "25  2022-09-07   5052407841\n",
              "26  2022-09-06   5052407841\n",
              "27  2022-09-05   5052407841\n",
              "28  2022-09-04   5052407841\n",
              "29  2022-09-03   5052407841\n",
              "30  2022-09-02   5052407841"
            ],
            "text/html": [
              "\n",
              "  <div id=\"df-de9c7ded-92c9-46fc-98d4-e1c46a1dccbb\">\n",
              "    <div class=\"colab-df-container\">\n",
              "      <div>\n",
              "<style scoped>\n",
              "    .dataframe tbody tr th:only-of-type {\n",
              "        vertical-align: middle;\n",
              "    }\n",
              "\n",
              "    .dataframe tbody tr th {\n",
              "        vertical-align: top;\n",
              "    }\n",
              "\n",
              "    .dataframe thead th {\n",
              "        text-align: right;\n",
              "    }\n",
              "</style>\n",
              "<table border=\"1\" class=\"dataframe\">\n",
              "  <thead>\n",
              "    <tr style=\"text-align: right;\">\n",
              "      <th></th>\n",
              "      <th>date</th>\n",
              "      <th>volume (USD)</th>\n",
              "    </tr>\n",
              "  </thead>\n",
              "  <tbody>\n",
              "    <tr>\n",
              "      <th>0</th>\n",
              "      <td>2022-10-02</td>\n",
              "      <td>5052407841</td>\n",
              "    </tr>\n",
              "    <tr>\n",
              "      <th>1</th>\n",
              "      <td>2022-10-01</td>\n",
              "      <td>5052407841</td>\n",
              "    </tr>\n",
              "    <tr>\n",
              "      <th>2</th>\n",
              "      <td>2022-09-30</td>\n",
              "      <td>5052407841</td>\n",
              "    </tr>\n",
              "    <tr>\n",
              "      <th>3</th>\n",
              "      <td>2022-09-29</td>\n",
              "      <td>5052407841</td>\n",
              "    </tr>\n",
              "    <tr>\n",
              "      <th>4</th>\n",
              "      <td>2022-09-28</td>\n",
              "      <td>5052407841</td>\n",
              "    </tr>\n",
              "    <tr>\n",
              "      <th>5</th>\n",
              "      <td>2022-09-27</td>\n",
              "      <td>5052407841</td>\n",
              "    </tr>\n",
              "    <tr>\n",
              "      <th>6</th>\n",
              "      <td>2022-09-26</td>\n",
              "      <td>5052407841</td>\n",
              "    </tr>\n",
              "    <tr>\n",
              "      <th>7</th>\n",
              "      <td>2022-09-25</td>\n",
              "      <td>5052407841</td>\n",
              "    </tr>\n",
              "    <tr>\n",
              "      <th>8</th>\n",
              "      <td>2022-09-24</td>\n",
              "      <td>5052407841</td>\n",
              "    </tr>\n",
              "    <tr>\n",
              "      <th>9</th>\n",
              "      <td>2022-09-23</td>\n",
              "      <td>5052407841</td>\n",
              "    </tr>\n",
              "    <tr>\n",
              "      <th>10</th>\n",
              "      <td>2022-09-22</td>\n",
              "      <td>5052407841</td>\n",
              "    </tr>\n",
              "    <tr>\n",
              "      <th>11</th>\n",
              "      <td>2022-09-21</td>\n",
              "      <td>5052407841</td>\n",
              "    </tr>\n",
              "    <tr>\n",
              "      <th>12</th>\n",
              "      <td>2022-09-20</td>\n",
              "      <td>5052407841</td>\n",
              "    </tr>\n",
              "    <tr>\n",
              "      <th>13</th>\n",
              "      <td>2022-09-19</td>\n",
              "      <td>5052407841</td>\n",
              "    </tr>\n",
              "    <tr>\n",
              "      <th>14</th>\n",
              "      <td>2022-09-18</td>\n",
              "      <td>5052407841</td>\n",
              "    </tr>\n",
              "    <tr>\n",
              "      <th>15</th>\n",
              "      <td>2022-09-17</td>\n",
              "      <td>5052407841</td>\n",
              "    </tr>\n",
              "    <tr>\n",
              "      <th>16</th>\n",
              "      <td>2022-09-16</td>\n",
              "      <td>5052407841</td>\n",
              "    </tr>\n",
              "    <tr>\n",
              "      <th>17</th>\n",
              "      <td>2022-09-15</td>\n",
              "      <td>5052407841</td>\n",
              "    </tr>\n",
              "    <tr>\n",
              "      <th>18</th>\n",
              "      <td>2022-09-14</td>\n",
              "      <td>5052407841</td>\n",
              "    </tr>\n",
              "    <tr>\n",
              "      <th>19</th>\n",
              "      <td>2022-09-13</td>\n",
              "      <td>5052407841</td>\n",
              "    </tr>\n",
              "    <tr>\n",
              "      <th>20</th>\n",
              "      <td>2022-09-12</td>\n",
              "      <td>5052407841</td>\n",
              "    </tr>\n",
              "    <tr>\n",
              "      <th>21</th>\n",
              "      <td>2022-09-11</td>\n",
              "      <td>5052407841</td>\n",
              "    </tr>\n",
              "    <tr>\n",
              "      <th>22</th>\n",
              "      <td>2022-09-10</td>\n",
              "      <td>5052407841</td>\n",
              "    </tr>\n",
              "    <tr>\n",
              "      <th>23</th>\n",
              "      <td>2022-09-09</td>\n",
              "      <td>5052407841</td>\n",
              "    </tr>\n",
              "    <tr>\n",
              "      <th>24</th>\n",
              "      <td>2022-09-08</td>\n",
              "      <td>5052407841</td>\n",
              "    </tr>\n",
              "    <tr>\n",
              "      <th>25</th>\n",
              "      <td>2022-09-07</td>\n",
              "      <td>5052407841</td>\n",
              "    </tr>\n",
              "    <tr>\n",
              "      <th>26</th>\n",
              "      <td>2022-09-06</td>\n",
              "      <td>5052407841</td>\n",
              "    </tr>\n",
              "    <tr>\n",
              "      <th>27</th>\n",
              "      <td>2022-09-05</td>\n",
              "      <td>5052407841</td>\n",
              "    </tr>\n",
              "    <tr>\n",
              "      <th>28</th>\n",
              "      <td>2022-09-04</td>\n",
              "      <td>5052407841</td>\n",
              "    </tr>\n",
              "    <tr>\n",
              "      <th>29</th>\n",
              "      <td>2022-09-03</td>\n",
              "      <td>5052407841</td>\n",
              "    </tr>\n",
              "    <tr>\n",
              "      <th>30</th>\n",
              "      <td>2022-09-02</td>\n",
              "      <td>5052407841</td>\n",
              "    </tr>\n",
              "  </tbody>\n",
              "</table>\n",
              "</div>\n",
              "      <button class=\"colab-df-convert\" onclick=\"convertToInteractive('df-de9c7ded-92c9-46fc-98d4-e1c46a1dccbb')\"\n",
              "              title=\"Convert this dataframe to an interactive table.\"\n",
              "              style=\"display:none;\">\n",
              "        \n",
              "  <svg xmlns=\"http://www.w3.org/2000/svg\" height=\"24px\"viewBox=\"0 0 24 24\"\n",
              "       width=\"24px\">\n",
              "    <path d=\"M0 0h24v24H0V0z\" fill=\"none\"/>\n",
              "    <path d=\"M18.56 5.44l.94 2.06.94-2.06 2.06-.94-2.06-.94-.94-2.06-.94 2.06-2.06.94zm-11 1L8.5 8.5l.94-2.06 2.06-.94-2.06-.94L8.5 2.5l-.94 2.06-2.06.94zm10 10l.94 2.06.94-2.06 2.06-.94-2.06-.94-.94-2.06-.94 2.06-2.06.94z\"/><path d=\"M17.41 7.96l-1.37-1.37c-.4-.4-.92-.59-1.43-.59-.52 0-1.04.2-1.43.59L10.3 9.45l-7.72 7.72c-.78.78-.78 2.05 0 2.83L4 21.41c.39.39.9.59 1.41.59.51 0 1.02-.2 1.41-.59l7.78-7.78 2.81-2.81c.8-.78.8-2.07 0-2.86zM5.41 20L4 18.59l7.72-7.72 1.47 1.35L5.41 20z\"/>\n",
              "  </svg>\n",
              "      </button>\n",
              "      \n",
              "  <style>\n",
              "    .colab-df-container {\n",
              "      display:flex;\n",
              "      flex-wrap:wrap;\n",
              "      gap: 12px;\n",
              "    }\n",
              "\n",
              "    .colab-df-convert {\n",
              "      background-color: #E8F0FE;\n",
              "      border: none;\n",
              "      border-radius: 50%;\n",
              "      cursor: pointer;\n",
              "      display: none;\n",
              "      fill: #1967D2;\n",
              "      height: 32px;\n",
              "      padding: 0 0 0 0;\n",
              "      width: 32px;\n",
              "    }\n",
              "\n",
              "    .colab-df-convert:hover {\n",
              "      background-color: #E2EBFA;\n",
              "      box-shadow: 0px 1px 2px rgba(60, 64, 67, 0.3), 0px 1px 3px 1px rgba(60, 64, 67, 0.15);\n",
              "      fill: #174EA6;\n",
              "    }\n",
              "\n",
              "    [theme=dark] .colab-df-convert {\n",
              "      background-color: #3B4455;\n",
              "      fill: #D2E3FC;\n",
              "    }\n",
              "\n",
              "    [theme=dark] .colab-df-convert:hover {\n",
              "      background-color: #434B5C;\n",
              "      box-shadow: 0px 1px 3px 1px rgba(0, 0, 0, 0.15);\n",
              "      filter: drop-shadow(0px 1px 2px rgba(0, 0, 0, 0.3));\n",
              "      fill: #FFFFFF;\n",
              "    }\n",
              "  </style>\n",
              "\n",
              "      <script>\n",
              "        const buttonEl =\n",
              "          document.querySelector('#df-de9c7ded-92c9-46fc-98d4-e1c46a1dccbb button.colab-df-convert');\n",
              "        buttonEl.style.display =\n",
              "          google.colab.kernel.accessAllowed ? 'block' : 'none';\n",
              "\n",
              "        async function convertToInteractive(key) {\n",
              "          const element = document.querySelector('#df-de9c7ded-92c9-46fc-98d4-e1c46a1dccbb');\n",
              "          const dataTable =\n",
              "            await google.colab.kernel.invokeFunction('convertToInteractive',\n",
              "                                                     [key], {});\n",
              "          if (!dataTable) return;\n",
              "\n",
              "          const docLinkHtml = 'Like what you see? Visit the ' +\n",
              "            '<a target=\"_blank\" href=https://colab.research.google.com/notebooks/data_table.ipynb>data table notebook</a>'\n",
              "            + ' to learn more about interactive tables.';\n",
              "          element.innerHTML = '';\n",
              "          dataTable['output_type'] = 'display_data';\n",
              "          await google.colab.output.renderOutput(dataTable, element);\n",
              "          const docLink = document.createElement('div');\n",
              "          docLink.innerHTML = docLinkHtml;\n",
              "          element.appendChild(docLink);\n",
              "        }\n",
              "      </script>\n",
              "    </div>\n",
              "  </div>\n",
              "  "
            ]
          },
          "metadata": {},
          "execution_count": 50
        }
      ]
    },
    {
      "cell_type": "code",
      "source": [
        "df['volume (USD)'] = df['volume (USD)'].astype('float64')"
      ],
      "metadata": {
        "id": "L_7MVXGl4kAK"
      },
      "execution_count": 51,
      "outputs": []
    },
    {
      "cell_type": "code",
      "source": [
        "df.dtypes"
      ],
      "metadata": {
        "colab": {
          "base_uri": "https://localhost:8080/"
        },
        "id": "CBFtdLPy5aWj",
        "outputId": "823ab761-02ec-46d0-a57f-4b4dbb161672"
      },
      "execution_count": 52,
      "outputs": [
        {
          "output_type": "execute_result",
          "data": {
            "text/plain": [
              "date             object\n",
              "volume (USD)    float64\n",
              "dtype: object"
            ]
          },
          "metadata": {},
          "execution_count": 52
        }
      ]
    },
    {
      "cell_type": "code",
      "source": [
        "df = df.set_index('date')"
      ],
      "metadata": {
        "id": "ElhS4oEl5cNl"
      },
      "execution_count": 53,
      "outputs": []
    },
    {
      "cell_type": "code",
      "source": [
        "df.plot()"
      ],
      "metadata": {
        "colab": {
          "base_uri": "https://localhost:8080/",
          "height": 308
        },
        "id": "8Dt9Vm0b5fNo",
        "outputId": "8bd58990-9891-4456-e7ea-1134425ccd56"
      },
      "execution_count": 54,
      "outputs": [
        {
          "output_type": "execute_result",
          "data": {
            "text/plain": [
              "<matplotlib.axes._subplots.AxesSubplot at 0x7f9f07e79cd0>"
            ]
          },
          "metadata": {},
          "execution_count": 54
        },
        {
          "output_type": "display_data",
          "data": {
            "text/plain": [
              "<Figure size 432x288 with 1 Axes>"
            ],
            "image/png": "[encoded data removed]"
          },
          "metadata": {
            "needs_background": "light"
          }
        }
      ]
    }
  ]
}